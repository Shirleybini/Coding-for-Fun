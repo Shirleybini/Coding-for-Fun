{
 "cells": [
  {
   "cell_type": "code",
   "execution_count": 38,
   "metadata": {},
   "outputs": [
    {
     "name": "stdout",
     "output_type": "stream",
     "text": [
      "Enter lower limit: 900\n",
      "Enter outer limit: 1000\n"
     ]
    }
   ],
   "source": [
    "x = int(input(\"Enter lower limit: \"))\n",
    "y = int(input(\"Enter outer limit: \"))"
   ]
  },
  {
   "cell_type": "code",
   "execution_count": 39,
   "metadata": {},
   "outputs": [
    {
     "name": "stdout",
     "output_type": "stream",
     "text": [
      "900   1000   174\n"
     ]
    }
   ],
   "source": [
    "count_array = []\n",
    "\n",
    "for n in range (x,y+1):\n",
    "    count = 1\n",
    "    while n!=1:\n",
    "        if (n==1):\n",
    "            exit\n",
    "        else:\n",
    "            if (n%2==1):\n",
    "                n = (3*n) + 1\n",
    "            else:\n",
    "                n = n/2\n",
    "    \n",
    "        count +=1\n",
    "    \n",
    "    count_array.append(count)\n",
    "    \n",
    "print(x , \" \" , y , \" \" , max(count_array))\n"
   ]
  },
  {
   "cell_type": "code",
   "execution_count": null,
   "metadata": {},
   "outputs": [],
   "source": []
  }
 ],
 "metadata": {
  "kernelspec": {
   "display_name": "Python 3",
   "language": "python",
   "name": "python3"
  },
  "language_info": {
   "codemirror_mode": {
    "name": "ipython",
    "version": 3
   },
   "file_extension": ".py",
   "mimetype": "text/x-python",
   "name": "python",
   "nbconvert_exporter": "python",
   "pygments_lexer": "ipython3",
   "version": "3.7.3"
  }
 },
 "nbformat": 4,
 "nbformat_minor": 2
}
